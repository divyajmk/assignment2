{
  "cells": [
    {
      "cell_type": "markdown",
      "metadata": {
        "id": "view-in-github",
        "colab_type": "text"
      },
      "source": [
        "<a href=\"https://colab.research.google.com/github/divyajmk/assignment2/blob/main/Final_assignment2.ipynb\" target=\"_parent\"><img src=\"https://colab.research.google.com/assets/colab-badge.svg\" alt=\"Open In Colab\"/></a>"
      ]
    },
    {
      "cell_type": "markdown",
      "id": "13ad028b-72b7-43ed-aa78-96fd4e518040",
      "metadata": {
        "id": "13ad028b-72b7-43ed-aa78-96fd4e518040"
      },
      "source": [
        "# Assignment: Data Wrangling and Exploratory Data Analysis\n",
        "## Do Q1 and Q2, and one other question.\n",
        "`! git clone https://www.github.com/DS3001/assignment2`"
      ]
    },
    {
      "cell_type": "markdown",
      "id": "5735a4d4-8be8-433a-a351-70eb8002e632",
      "metadata": {
        "id": "5735a4d4-8be8-433a-a351-70eb8002e632"
      },
      "source": [
        "**Q1.** Open the \"tidy_data.pdf\" document in the repo, which is a paper called Tidy Data by Hadley Wickham.\n",
        "\n",
        "  1. Read the abstract. What is this paper about?\n",
        "  2. Read the introduction. What is the \"tidy data standard\" intended to accomplish?\n",
        "  3. Read the intro to section 2. What does this sentence mean: \"Like families, tidy datasets are all alike but every messy dataset is messy in its own way.\" What does this sentence mean: \"For a given dataset, it’s usually easy to figure out what are observations and what are variables, but it is surprisingly difficult to precisely define variables and observations in general.\"\n",
        "  4. Read Section 2.2. How does Wickham define values, variables, and observations?\n",
        "  5. How is \"Tidy Data\" defined in section 2.3?\n",
        "  6. Read the intro to Section 3 and Section 3.1. What are the 5 most common problems with messy datasets? Why are the data in Table 4 messy? What is \"melting\" a dataset?\n",
        "  7. Why, specifically, is table 11 messy but table 12 tidy and \"molten\"?\n",
        "  8. Read Section 6. What is the \"chicken-and-egg\" problem with focusing on tidy data? What does Wickham hope happens in the future with further work on the subject of data wrangling?"
      ]
    },
    {
      "cell_type": "code",
      "source": [
        "! git clone https://www.github.com/DS3001/assignment2"
      ],
      "metadata": {
        "id": "D3vgsQvTTEzD",
        "outputId": "7d9e0092-a6da-435e-d7d3-dbc1dc80fc27",
        "colab": {
          "base_uri": "https://localhost:8080/"
        }
      },
      "id": "D3vgsQvTTEzD",
      "execution_count": null,
      "outputs": [
        {
          "output_type": "stream",
          "name": "stdout",
          "text": [
            "Cloning into 'assignment2'...\n",
            "warning: redirecting to https://github.com/DS3001/assignment2.git/\n",
            "remote: Enumerating objects: 36, done.\u001b[K\n",
            "remote: Counting objects: 100% (12/12), done.\u001b[K\n",
            "remote: Compressing objects: 100% (7/7), done.\u001b[K\n",
            "remote: Total 36 (delta 8), reused 5 (delta 5), pack-reused 24\u001b[K\n",
            "Receiving objects: 100% (36/36), 5.47 MiB | 19.92 MiB/s, done.\n",
            "Resolving deltas: 100% (9/9), done.\n"
          ]
        }
      ]
    },
    {
      "cell_type": "markdown",
      "source": [
        "1. This paper is about tidying up datasets, and the importance of having clean data along with tidy datasets. Tidy datasets are datasets that are easy to manipulate, model, and visualize as they have a specific structure. In these datasets, each variable is a column, each observation is a row, and each type of observational unit is a table. This structure makes it easier to tidy up messy datasets and to develop tools for data analsyis.\n",
        "\n",
        "2. The tidy data standard is intended to faciliate initial exploration and analysis of data. These principles of tidy data provide a standard way to organise data values within a dataset. A standard like this is useful as it makes initial data cleaning easier, instead of having to start from scratch every time. This standard has been designed to simplify the development of data analysis tools that work well together. In the current state of art, current tools require translation and time to use the output from one tool as input for another tool. However, the tidy data standard works to make data analysis eaiser, allowing us to focus on the problem at hand instead of working on the logistics of data (such as data translation).\n",
        "\n",
        "3. The first sentence, \"Like families, tidy datasets are all alike but every messy dataset is messy in its own way\", conveys the idea that there is a standard structure or format that tidy datasets follow, making them seem consistent and cohesive in structure like families. Tidy datasets are well-organized and structured; this makes them easier to analyze and work with. On the other hand, messy datasets do not share similar characteristics with other messy datasets, making each dataset messy in its own way. This is because messy datasets can vary widely in terms of how they are disorganized or structured as each messy dataset will have its own unique problems and challenges (i,e., if a column is disorganized, or a row is disorganized, or both, etc.).\n",
        "The second sentence, \"For a given dataset, it's usually easy to figure out what are observations and what are variables, but it is surprisingly difficult to precisely define variables and observations in general\", conveys the idea that it is usually straightforward to identify the observations and variables within a specific dataset, but defining these observations and variables in a general way can be complex due to the diversity and context-specific nature of data. When looking at a dataset, it is straightforward to identify what the observations and variables are as the observations are typically the rows and the variables are the columns. However, it can be challenging to precisly define observations and variables in a general way that applies universally to all datasets. This is because datasets can vary widely in their structure and purpose. What applies for an observation and variable in one dataset, may not apply in another dataset.\n",
        "\n",
        "4. Wickham states that a dataset is a collection of **values** and these values are either numbers (quanitative) or strings (qualitative) that are organized in two ways. Every value can be organized as a variable and an observation. A **variable** contains all values that measure the same underlying attribute across units; each variable forms a column. On the other hand, an **observation** contains all values measured on the same unit across attributes; each observation forms a row.\n",
        "\n",
        "5. Tidy data is defined as a standard way of mapping the meaning of a dataset to its structure. There are three main characteristics associated with tidy data: each variable forms a column, each observation forms a row, and each type of observational unit forms a table. Tidy data also allows analysts and data scicentsts to easily analyze the needed variables and information since tidy data provides a standard way of structuring a dataset.  \n",
        "\n",
        "6. The 5 most common problems with messy datasets are as follows:\n",
        "  - Column headers are seen as values instead of variable names.\n",
        "  - Multiple variables are stored in one column.\n",
        "  - Variables are stored in both rows and columns.\n",
        "  - Multiple types of observational units are stored in the same table.\n",
        "  - A single observational unit is stored in multiple tables.\n",
        "\n",
        "  The data in Table 4 is messy because the column headers are values,instead of variable names. For instance, the column values are prices instead of a variable name. Melting a dataset means that the columns are turned into rows to create tidy datasets.\n",
        "\n",
        "7. Table 11 is messy as the column headers are values instead of variable names. For instance, the table has column headers like \"d1, d2, etc.\" that are not descriptive or provide the reader with useful information. Table 12a is molten as the element column contains names of variables (i.e., \"tmax\" or \"tmin\") instead of values. Table 12b is tidy as each row represents the meterological measurements for a single day and includes the two measured variables. Also, the minimum (\"tmin\") and maximum (\"tmax\") temperature are column headers, and all other variables are fixed.\n",
        "\n",
        "8. The chicken-and-egg problem in relation to tidy data states that if tidy data is only as useful as the tools that work with it, then tidy tools will be linked to tidy data. This problem refers to a situation in where the usefulness of tidy data and tidy tools are interdependent. Tidy data is only valuable if there are tools designed to work with it effectively, but these tools are reliant on the tidy data structure. Thus, it is easy to get stuck where independently changing data structures or data tools will not improve workflow.\n",
        "Wickham hopes that frameworks related to the cleaning and wrangling of data can be developed to make tasks (such as parsing dates, identifiying missing values, etc.) easier in the future. Wickham also hopes that others will build upon the tidy data framework to develop even better data storage strategies and tools. Additionally, Wickham hopes that there could be tidy tools that can choose between array-tidy and datafram-tidy formats to optimise memory usage and performance.\n"
      ],
      "metadata": {
        "id": "Y_Q0mxZNThMy"
      },
      "id": "Y_Q0mxZNThMy"
    },
    {
      "cell_type": "markdown",
      "id": "da879ea7-8aac-48a3-b6c2-daea56d2e072",
      "metadata": {
        "id": "da879ea7-8aac-48a3-b6c2-daea56d2e072"
      },
      "source": [
        "**Q2.** This question provides some practice cleaning variables which have common problems.\n",
        "1. Numeric variable: For `./data/airbnb_hw.csv`, clean the `Price` variable as well as you can, and explain the choices you make. How many missing values do you end up with? (Hint: What happens to the formatting when a price goes over 999 dollars, say from 675 to 1,112?)\n",
        "2. Categorical variable: For the `./data/sharks.csv` data covered in the lecture, clean the \"Type\" variable as well as you can, and explain the choices you make.\n",
        "3. Dummy variable: For the pretrial data covered in the lecture, clean the `WhetherDefendantWasReleasedPretrial` variable as well as you can, and, in particular, replace missing values with `np.nan`.\n",
        "4. Missing values, not at random: For the pretrial data covered in the lecture, clean the `ImposedSentenceAllChargeInContactEvent` variable as well as you can, and explain the choices you make. (Hint: Look at the `SentenceTypeAllChargesAtConvictionInContactEvent` variable.)"
      ]
    },
    {
      "cell_type": "code",
      "source": [
        "from typing import ValuesView\n",
        "import numpy as np\n",
        "import pandas as pd\n",
        "\n",
        "print(\"PART 1 ------------------------------------------------------------\")\n",
        "\n",
        "df = pd.read_csv('./assignment2/data/airbnb_hw.csv', low_memory=False)\n",
        "var = 'Price'\n",
        "print('Before coercion: \\n', df[var].describe(), '\\n')\n",
        "df[var] = pd.to_numeric(df[var], errors='coerce') # Numeric\n",
        "\n",
        "# Check for missing values in 'Price' Column by creating a missing value dummy\n",
        "missing_values_before_cleaning = df['Price'].isnull().sum()\n",
        "print(\"Number of missing values in 'Price' before cleaning: \", missing_values_before_cleaning)\n",
        "\n",
        "# Remove Current Symbols and Commas\n",
        "df[var] = df[var].replace('$', '')\n",
        "\n",
        "# Handle formatting, such as a comma that separates numbers over 999\n",
        "df[var] = df[var].replace(',', '')\n",
        "\n",
        "# Impute missing values with 0\n",
        "df[var].fillna(0, inplace=True)\n",
        "\n",
        "#Print out missing values after cleaning\n",
        "# print('After coercion: \\n', df[var].describe(),'\\n')\n",
        "missing_values_after_cleaning = df['Price'].isnull().sum()\n",
        "print(\"Number of missing values in 'Price' after cleaning: \", missing_values_after_cleaning,\"\\n\")\n",
        "\n",
        "\n",
        "\n",
        "print(\"PART 2 ----------------------------------------------------------\")\n",
        "\n",
        "df2 = pd.read_csv('./assignment2/data/sharks.csv', low_memory=False)\n",
        "var2 = 'Type'\n",
        "print(df2[var2].unique(), '\\n') # Categorical\n",
        "\n",
        "# Checks for missing values in 'Type' Column\n",
        "missing = df2[var2].isnull().sum()\n",
        "print(\"Missing values Before Cleaning: \", missing)\n",
        "\n",
        "# Impute missing values with 'unknown'\n",
        "df2[var2].fillna('unknown', inplace=True)\n",
        "\n",
        "# Standardize the \"Type\" column to uppercase\n",
        "df2[var2] = df2[var2].str.lower()\n",
        "\n",
        "# Group similar types into broader categories\n",
        "df2[var2]  = df2[var2].replace( {\n",
        "    'questionable': 'unknown',\n",
        "    'unconfirmed': 'unknown',\n",
        "    'unverified': 'unknown',\n",
        "    'invalid': 'unknown',\n",
        "    'under investigation': 'unknown',\n",
        "    'sea disaster': 'unknown',\n",
        "     'nan': 'unknown',\n",
        "    'boatomg': 'unknown',\n",
        "})\n",
        "# Print unique values\n",
        "unique_types_cleaned = df2[var2].unique()\n",
        "print(\"Unique 'Type' values after cleaning:\")\n",
        "print(unique_types_cleaned)\n",
        "\n",
        "#Print missing values after cleaning\n",
        "missing = df2[var2].isnull().sum()\n",
        "print(\"Missing values After Cleaning: \", missing, '\\n')\n",
        "\n",
        "\n",
        "print(\"PART 3: --------------------------------------------------------\")\n",
        "\n",
        "\n",
        "df3 = pd.read_csv('./assignment2/data/PretrialData.csv', low_memory=False)\n",
        "var3 = \"WhetherDefendantWasReleasedPretrial\"\n",
        "\n",
        "# Find rows with \"9\" in the specified variable\n",
        "missing_rows = df3[df3[var3] == 9]\n",
        "\n",
        "# Replace \"9\" with NaN in the specified variable\n",
        "df3[var3] = df3[var3].replace(9, np.nan)\n",
        "\n",
        "# Count the number of values that will be replaced\n",
        "original_count = (df3[var3] == 9).sum()\n",
        "\n",
        "# Count the number of NaN values in the column after replacement\n",
        "nan_count = df3[var3].isna().sum()\n",
        "\n",
        "print(f\"Number of NaN values after replacement: {nan_count} \\n\")\n",
        "\n",
        "print(\"PART 4: --------------------------------------------------------\")\n",
        "\n",
        "var4 = \"ImposedSentenceAllChargeInContactEvent\"\n",
        "var5 = \"SentenceTypeAllChargesAtConvictionInContactEvent\"\n",
        "\n",
        "# Replace 4 with 0s in the SentenceType...\n",
        "df3[var5] = df3[var5].replace(4, 0)\n",
        "\n",
        "# Replace 9 with NaNs in the SentenceType..\n",
        "df3[var5] = df3[var5].replace(9,np.nan)\n",
        "\n",
        "# Replace the ' ' in the ImposedSentence... with NaN\n",
        "df3[var4] = df3[var4].replace(' ', np.nan)\n",
        "\n",
        "# Cleaning\n",
        "# Step 1: Identify Missing Values\n",
        "missing_values = df3[var4].isnull()\n",
        "\n",
        "# Step 2: Analyze the Relationship with Another Variable\n",
        "cross_tab_table = pd.crosstab(missing_values, df3[var5])\n",
        "print(cross_tab_table)\n",
        "\n",
        "# Step 3: Impute the Mean for the NaN values\n",
        "# Convert the \"ImposedSentenceAllChargeInContactEvent\" column to numeric, handling errors as NaN\n",
        "df3[var4] = pd.to_numeric(df3[var4], errors='coerce')\n",
        "\n",
        "# Calculate the mean of the \"ImposedSentenceAllChargeInContactEvent\" variable\n",
        "overall_mean = df3[var4].mean()\n",
        "\n",
        "# Impute the remaining NaN values with the overall mean\n",
        "df3[var4].fillna(overall_mean, inplace=True)\n",
        "\n",
        "# Print the total number of NaN values\n",
        "total_nan_values = df3[var4].isnull().sum()\n",
        "print(\"Total NaN values in 'ImposedSentenceAllChargeInContactEvent':\", total_nan_values)\n",
        "\n",
        "\n"
      ],
      "metadata": {
        "id": "9H4dcxAXR0BS",
        "colab": {
          "base_uri": "https://localhost:8080/"
        },
        "outputId": "5142d2fc-0010-4cb8-8b48-841967e0153d"
      },
      "id": "9H4dcxAXR0BS",
      "execution_count": 76,
      "outputs": [
        {
          "output_type": "stream",
          "name": "stdout",
          "text": [
            "PART 1 ------------------------------------------------------------\n",
            "Before coercion: \n",
            " count     30478\n",
            "unique      511\n",
            "top         150\n",
            "freq       1481\n",
            "Name: Price, dtype: object \n",
            "\n",
            "Number of missing values in 'Price' before cleaning:  181\n",
            "Number of missing values in 'Price' after cleaning:  0 \n",
            "\n",
            "PART 2 ----------------------------------------------------------\n",
            "['Unprovoked' 'Provoked' 'Questionable' 'Watercraft' 'Unconfirmed'\n",
            " 'Unverified' 'Invalid' 'Under investigation' 'Boating' 'Sea Disaster' nan\n",
            " 'Boat' 'Boatomg'] \n",
            "\n",
            "Missing values Before Cleaning:  5\n",
            "Unique 'Type' values after cleaning:\n",
            "['unprovoked' 'provoked' 'unknown' 'watercraft' 'boating' 'boat']\n",
            "Missing values After Cleaning:  0 \n",
            "\n",
            "PART 3: --------------------------------------------------------\n",
            "Number of NaN values after replacement: 31 \n",
            "\n",
            "PART 4: --------------------------------------------------------\n",
            "SentenceTypeAllChargesAtConvictionInContactEvent   0.0   1.0  2.0\n",
            "ImposedSentenceAllChargeInContactEvent                           \n",
            "False                                             8720  4299  914\n",
            "True                                              8779     0    0\n",
            "Total NaN values in 'ImposedSentenceAllChargeInContactEvent': 0\n"
          ]
        }
      ]
    },
    {
      "cell_type": "markdown",
      "source": [
        "1. To clean the 'Price' variable in the airbnb.csv data, I created a missing value dummy variable using df[var].isnull(). Before I cleaned the data, there were 181 total missing values. To clean the 'Price' variable, I removed the \"$\" symbol and the \",\" if they were present. I removed these symbols so the formatting of all the prices within this variable were consistent and had no symbols that could be misinterpeted as invalid values. I also imputed the missing values with 0. This was done to be consistent with the numeric format; since 'Price' is a numeric variable, missing values should not be formatted as a string or a word, but rather a number like 0. After I cleaned, I found that there were 0 missing values.\n",
        "\n",
        "2. Before I cleaned the \"Type\" variable in the sharks.csv data, I found that there were 5 missing values. To calculate the amount of missing values, I used the command df2[var2].isnull(). I also imputed the missing values with 'unknown'; this was to keep the missing values defined in a consistent manner. Since \"Type\" is a categorical variable, it makes more sense for the missing values to be interpreted as 'unknown' instead of 0. Then, I standardized the \"Type\" column to be all lowercase. This decision was made to make it easier to read the values. Most importantly, I decided to group similar types as 'unknown'. The following types are found below:\n",
        "  - 'questionable' = 'unknown',\n",
        "  -  'unconfirmed' = 'unknown',\n",
        "  - 'unverified'= 'unknown',\n",
        "  -  'invalid' = 'unknown',\n",
        "  -   'under investigation'= 'unknown',\n",
        "  -  'sea disaster'= 'unknown',\n",
        "  -   'nan' = 'unknown',\n",
        "  -   'boatomg' = 'unknown',\n",
        "\n",
        "I did this because these types were not clearly definied to anyone reading the data, so I grouped them as 'unknown.' After cleaning the data, I found there to be 0 missing values.\n",
        "\n",
        "3. For the WhetherDefendantWasReleasedPretrial variable, I cleaned the variable by replacing the 9s with NaNs. When I read the codebook, I understood that a 9 was labeled as \"Unclear\". I interpreted this as an unknown and missing value, and converted all of these missing values of 9s into NaNs. This was done with the df3[var3].replace(9,np.nan) command. After I converted these missing values into NaNs, I found there to be 31 values that were NaNs.\n",
        "\n",
        "4. For this step, I first cleaned the SentenceTypeAllChargesAtConvictionInContactEvent variable. I replaced the 4s with 0s and the 9s with NaNs. When I read the codebook, I found that the 4s were labeled as \"Other\", which I thought could be labelled with 0s. The 9s were labelled as \"Not Applicable\", in either that the record was not found or was unknown, so I replaced the 9s with NaNs. For the ImposedSentenceAllChargeInContactEvent variable, I replaced the empty strings with NaN as well. Now, for cleaning ImposedSentenceAllChargeInContactEvent, I first created a missing value dummy using df3[var4].isnull() to identify the missing values. Then, I wanted to analyze the relationship between the missing values in ImposedSentenceAllChargeInContactEvent and the missing values in SentenceTypeAllChargesAtConvictionInContactEvent, so I used the cross tabulation function, pd.crosstab() and printed out the table. This table counted the occurrences of the different combinations of True, indicating missing values, and False, indicating non-missing values, for both variables. This helps better understand if a missing value in one variable is related to a value in the other variable. Next, to handle the missing values, I decided to impute the mean of the ImposedSentenceAllChargeInContactEvent variable for the missing values. This decision was made as imputing missing values with the mean helps preserve the overall distrubtion of the existing data as the mean is considered to be a representative measure of central tendency for numeric variables. It keeps the variance and the overall shape of the data relatively stable as well. Initially, I tried imputing the missing values with the median. However, after cleaning the data, I found there to still be 274 NaN values. Therefore, I made the deicison to impute the missing values with the mean to result in 0 NaN values. The ImposedSentenceAllChargeInContactEvent variable had to be converted into a numeric data type for the mean to be calculated. The missing values in ImposedSentenceAllChargeInContactEvent were replaced with the computed mean. After all of the initial cleaning, handling, and imputing the mean for the missing values, the total number of NaN values in the ImposedSentenceAllChargeInContactEvent variable was 0."
      ],
      "metadata": {
        "id": "zRpXgQk_RzTq"
      },
      "id": "zRpXgQk_RzTq"
    },
    {
      "cell_type": "markdown",
      "id": "c11bcd96-2834-41a4-80fe-d354b4277fd9",
      "metadata": {
        "id": "c11bcd96-2834-41a4-80fe-d354b4277fd9"
      },
      "source": [
        "**Q3.** This question provides some practice doing exploratory data analysis and visualization.\n",
        "\n",
        "The \"relevant\" variables for this question are:\n",
        "  - `level` - Level of institution (4-year, 2-year)\n",
        "  - `aid_value` - The average amount of student aid going to undergraduate recipients\n",
        "  - `control` - Public, Private not-for-profit, Private for-profit\n",
        "  - `grad_100_value` - percentage of first-time, full-time, degree-seeking undergraduates who complete a degree or certificate program within 100 percent of expected time (bachelor's-seeking group at 4-year institutions)\n",
        "\n",
        "1. Load the `./data/college_completion.csv` data with Pandas.\n",
        "2. What are are the dimensions of the data? How many observations are there? What are the variables included? Use `.head()` to examine the first few rows of data.\n",
        "3. Cross tabulate `control` and `level`. Describe the patterns you see.\n",
        "4. For `grad_100_value`, create a histogram, kernel density plot, boxplot, and statistical description.\n",
        "5. For `grad_100_value`, create a grouped kernel density plot by `control` and by `level`. Describe what you see. Use `groupby` and `.describe` to make grouped calculations of statistical descriptions of `grad_100_value` by `level` and `control`. Which institutions appear to have the best graduation rates?\n",
        "6. Create a new variable, `df['levelXcontrol']=df['level']+', '+df['control']` that interacts level and control. Make a grouped kernel density plot. Which institutions appear to have the best graduation rates?\n",
        "7. Make a kernel density plot of `aid_value`. Notice that your graph is \"bi-modal\", having two little peaks that represent locally most common values. Now group your graph by `level` and `control`. What explains the bi-modal nature of the graph? Use `groupby` and `.describe` to make grouped calculations of statistical descriptions of `aid_value` by `level` and `control`.\n",
        "8. Make a scatterplot of `grad_100_value` by `aid_value`. Describe what you see. Now make the same plot, grouping by `level` and then `control`. Describe what you see. For which kinds of institutions does aid seem to increase graduation rates?"
      ]
    },
    {
      "cell_type": "markdown",
      "id": "98d34a3b-c21d-4dc9-a8d2-fb7686804ceb",
      "metadata": {
        "id": "98d34a3b-c21d-4dc9-a8d2-fb7686804ceb"
      },
      "source": [
        "**Q4.** This question uses the Airbnb data to practice making visualizations.\n",
        "\n",
        "  1. Load the `./data/airbnb_hw.csv` data with Pandas. You should have cleaned the `Price` variable in question 2, and you'll need it later for this question.\n",
        "  2. What are are the dimensions of the data? How many observations are there? What are the variables included? Use `.head()` to examine the first few rows of data.\n",
        "  3. Cross tabulate `Room Type` and `Property Type`. What patterns do you see in what kinds of rentals are available? For which kinds of properties are private rooms more common than renting the entire property?\n",
        "  4. For `Price`, make a histogram, kernel density, box plot, and a statistical description of the variable. Are the data badly scaled? Are there many outliers? Use `log` to transform price into a new variable, `price_log`, and take these steps again.\n",
        "  5. Make a scatterplot of `price_log` and `Beds`. Describe what you see. Use `.groupby()` to compute a desciption of `Price` conditional on/grouped by the number of beds. Describe any patterns you see in the average price and standard deviation in prices.\n",
        "  6. Make a scatterplot of `price_log` and `Beds`, but color the graph by `Room Type` and `Property Type`. What patterns do you see? Compute a description of `Price` conditional on `Room Type` and `Property Type`. Which Room Type and Property Type have the highest prices on average? Which have the highest standard deviation? Does the mean or median appear to be a more reliable estimate of central tendency, and explain why?\n",
        "  7. We've looked a bit at this `price_log` and `Beds` scatterplot. Use seaborn to make a `jointplot` with `kind=hex`. Where are the data actually distributed? How does it affect the way you think about the plots in 5 and 6?"
      ]
    },
    {
      "cell_type": "markdown",
      "id": "649494cd-cfd6-4f80-992a-9994fc19e1d5",
      "metadata": {
        "id": "649494cd-cfd6-4f80-992a-9994fc19e1d5"
      },
      "source": [
        "**Q5.** Many important datasets contain a race variable, typically limited to a handful of values often including Black, White, Asian, Latino, and Indigenous. This question looks at data gathering efforts on this variable by the U.S. Federal government.\n",
        "\n",
        "1. How did the most recent US Census gather data on race?\n",
        "2. Why do we gather these data? What role do these kinds of data play in politics and society? Why does data quality matter?\n",
        "3. Please provide a constructive criticism of how the Census was conducted: What was done well? What do you think was missing? How should future large scale surveys be adjusted to best reflect the diversity of the population? Could some of the Census' good practices be adopted more widely to gather richer and more useful data?\n",
        "4. How did the Census gather data on sex and gender? Please provide a similar constructive criticism of their practices.\n",
        "5. When it comes to cleaning data, what concerns do you have about protected characteristics like sex, gender, sexual identity, or race? What challenges can you imagine arising when there are missing values? What good or bad practices might people adopt, and why?\n",
        "6. Suppose someone invented an algorithm to impute values for protected characteristics like race, gender, sex, or sexuality. What kinds of concerns would you have?"
      ]
    },
    {
      "cell_type": "markdown",
      "source": [
        "1. The most recent US Census gathered data on race by following guidelines provided by the U.S. Office of Management and Budget (OMB). Data was gathered through a combination of self-identification questions. Respondents were asked to select their race from a list of options, such as White, Black or African America, Asian, American Indian or Alaska Native, Native Hawaiian or Other Pacific Islander, and some other race. Additionally, respondents could select two or more races to indicate their racial identity. The US Census also collected data on ethnicity, asking if respondents were of Spansish, Latino, or Hispanic origin.\n",
        "\n",
        "2. We gather these data to get a better demographic understanding. Gathering data on race is important to track changes in the racial and ethnic makeup of the country over time. Additionally, understanding the racial demographic of the country helps with resource allocation. Resources and funding for public services, infrastructure, and social programs can be allocated better, such as to communities with specific needs like minority populations, with a better understanding of the demographic and its needs.\n",
        "Census data plays a critical role in politics and soceity as it influences political representation at federal, state, and local levels. This data is used to redistrict and determine the number of congressional seats for each state. Also, this data helps politicans to better advertise to specific populations if they wish to gain votes from a specific racial group. Census data also helps society as researchers and policymakers use this data to study social trends in various domains, such as healthcare and education, to better identify disparities or inequalities.\n",
        "Data quality matters as it is important to get accurate data when making informed decisions, such as allocating resources effectively. It is important to make sure that the data is not inaccurate or biased as that can lead to unfair resource distribution or policy decisions, which could affect marginalized communtiies.\n",
        "\n",
        "3. I believe that allowing respondents to select multiple racial categories is something that is being done well. By allowing respondents to have option to select more than one race, the US Census is taking an effort to recognize the complexity of racial identity to get a comprehensive picture of the U.S. population. However on the other hand, I believe something that is missing is options and categories that capture the nuances of indivdiuals' racial identities. The US Census currently uses broad racial categories. For example, instead of just having one \"Asian\" category, options that account for specific Asian ethnicites like Indian, Chinese, etc. would be better.\n",
        "Future large scale surveys should take into account how to reach underrepresented and minority populations. Historically, minority groups, such as Native Americans and African American communities, have been undercounted in the Census. Taking efforts to reach these pouplations can be done by making these surveys more accessible to others. This can be done by providing accommdations to those with limited English proficiency and limited access to digital resources.\n",
        "Some of the Census' good practices, such as data security and attempt to provide a comprehensive scope of the racial makeup of the country, can be applied to other wider attempts of data gathering. The Census Bureau has robust measures in place to protect respondents' personal information through data security. Additionally, the Census aims to collect data on a wide range of demographic and socioeconomic factors, which is important for large scale surveys as this data is valulable to government insitutions.\n",
        "\n",
        "4. Data on sex is gathered through a binary categorization; this is done by asking respondents to identify as either male or female. Currently, there is no data being gathered on gender.\n",
        "Something that was done well was allowing respondents to be transparent with their answers by asking for the sex they *identify* with. This helps maintain integrity of the data collected by allowing respondents to answer what they are most comfortable with, instead of feeling pressured to answer the sex they were assigned at birth. However, something that was missing was that data on gender identity was not collected. Tbe diveristy of gender identities beyond the binary gender was not accounted for.  Future large scale surveys should be adjusted to have more inclusive questions that capture a broader range of gender identities and having options for those who are transgender, non-binary, or other gender-diverse individuals. This would allow for a more accurate reflection of the population. The Census' good practices of data privacy and validation can be adopted to wider surveys to gather more data. These practices will make sure that respondents are comfortable with providing their information and that their data will be protected.\n",
        "\n",
        "5. Concerns for cleaning data with protected characteristics, like sexual identity, gender, or race, are issues about privacy and fairness. There are concerns that during the cleaning process, private and personal information could be revealed that lead to the identification of indivdiuals without their consent. Additionally, there is a concern that any biases in data cleaning can perpetuate inequalities and lead to unfair outcomes from analysis of data.\n",
        "Challenges that might arise from missing values are having sparse and biased datasets. Missing values can result in sparse datasets as columns or rows will have missing values; this will make it challenging to draw meaningful conclusions accurately. Also, imputing missing values can introduce bias if not done in a proper way.\n",
        "Some good practices people might adopt is transparency and ethics. It is important to be transparent about data cleaning and the procedures that will be done, so respondents are aware of how their information will be handled. Additionaly, it is critical for people to consider ethical practices to ensure that any imputed values respect the autonomy and identities of respondents. On the other hand, some bad practices people might adopt is ignoring missing values and making uninformed decisions. People could ignore missing values without considering their impact, which is harmful as it can lead to biased or inaccurate analyses. Additionally, making uninformed decisions when cleaning data, such as not consulting the right people or not considering the specific context of the data, can lead to inappropriate handling of sensitive data.\n",
        "\n",
        "\n",
        "6. Concerns that arise with this algorithm are issues about privacy, informed consent of the sensitive data, and accuracy and stereotyping of the imputed values. Individuals should have control over how their personal information is used, so imputing proctected characteristics without consent from the respondents infringes on their privacy. Also, missing values in these protected categories can lead to biased analyses of data as the resulting data won't be an accurate representation of the initial population. This will lead to unfair resource allocation and policy decisions. When handling missing values, algorithms won't quite capture individuals' self-identified characteristics, and will potentially lead to misrepresentation and reinforcement of stereotypes."
      ],
      "metadata": {
        "id": "3ZrJdpMby3xl"
      },
      "id": "3ZrJdpMby3xl"
    },
    {
      "cell_type": "markdown",
      "id": "2f38f2fd-6381-481d-bba9-017f3d363426",
      "metadata": {
        "id": "2f38f2fd-6381-481d-bba9-017f3d363426"
      },
      "source": [
        "**Q6.** Open the `./data/CBO_data.pdf` file. This contains tax data for 2019, explaining where the money comes from that the U.S. Federal Government Spends in terms of taxation on individuals/families and payroll taxes (the amount that your employer pays in taxes on your wages).\n",
        "\n",
        "For some context, the Federal government ultimately spent about $4.4 trillion in 2019, which was 21% of GDP (the total monetary value of all goods and services produced within the United States). Individual Income Taxes is the amount individuals pay on their wages to the Federal government, Corporate Income Taxes is the taxes individuals pay on capital gains from investment when they sell stock or other financial instruments, Payroll Taxes is the tax your employer pays on your wages, Excises and Customs Duties are taxes on goods or services like sin taxes on cigarettes or alcohol, and Estate and Gift Taxes are taxes paid on transfers of wealth to other people.\n",
        "\n",
        "1. Get the Millions of Families and Billions of Dollars data into a .csv file and load it with Pandas.\n",
        "2. Create a bar plot of individual income taxes by income decile. Explain what the graph shows. Why are some values negative?\n",
        "3. Create a bar plot of Total Federal Taxes by income decile. Which deciles are paying net positive amounts, and which are paying net negative amounts?\n",
        "4. Create a stacked bar plot for which Total Federal Taxes is grouped by Individual Income Taxes, Payroll Taxes, Excises and Customs Duties, and Estate and Gift Taxes. How does the share of taxes paid vary across the adjusted income deciles? (Hint: Are these the kind of data you want to melt?)\n",
        "5. Below the Total line for Millions of Families and Billions of Dollars, there are data for the richest of the richest families. Plot this alongside the bars for the deciles above the Total line. Describe your results.\n",
        "6. Get the Percent Distribution data into a .csv file and load it with Pandas. Create a bar graph of Total Federal Taxes by income decile.\n",
        "7. A tax system is progressive if higher-income and wealthier individuals pay more than lower-income and less wealthy individuals, and it is regressive if the opposite is true. Is the U.S. tax system progressive in terms of amount paid? In terms of the percentage of the overall total?\n",
        "8. Do the rich pay enough in taxes? Defend your answer."
      ]
    }
  ],
  "metadata": {
    "kernelspec": {
      "display_name": "Python 3 (ipykernel)",
      "language": "python",
      "name": "python3"
    },
    "language_info": {
      "codemirror_mode": {
        "name": "ipython",
        "version": 3
      },
      "file_extension": ".py",
      "mimetype": "text/x-python",
      "name": "python",
      "nbconvert_exporter": "python",
      "pygments_lexer": "ipython3",
      "version": "3.10.4"
    },
    "colab": {
      "provenance": [],
      "include_colab_link": true
    }
  },
  "nbformat": 4,
  "nbformat_minor": 5
}